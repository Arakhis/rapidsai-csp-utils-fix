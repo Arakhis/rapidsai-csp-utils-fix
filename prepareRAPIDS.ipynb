{
  "nbformat": 4,
  "nbformat_minor": 0,
  "metadata": {
    "colab": {
      "provenance": []
    },
    "kernelspec": {
      "name": "python3",
      "display_name": "Python 3"
    },
    "language_info": {
      "name": "python"
    }
  },
  "cells": [
    {
      "cell_type": "code",
      "execution_count": null,
      "metadata": {
        "id": "XUIKWOgIUH1l"
      },
      "outputs": [],
      "source": [
        "!git clone https://github.com/Arakhis/rapidsai-csp-utils-fix\n",
        "!python rapidsai-csp-utils-fix/colab/env-check.py\n",
        "!bash rapidsai-csp-utils-fix/colab/update_gcc.sh\n",
        "import os\n",
        "os._exit(00)"
      ]
    },
    {
      "cell_type": "code",
      "source": [
        "import condacolab\n",
        "condacolab.install()"
      ],
      "metadata": {
        "id": "iAUjYJSRUJtk"
      },
      "execution_count": null,
      "outputs": []
    },
    {
      "cell_type": "code",
      "source": [
        "import os\n",
        "import condacolab\n",
        "condacolab.check()\n",
        "!python rapidsai-csp-utils-fix/colab/install_rapids.py stable\n",
        "os.environ['NUMBAPRO_NVVM'] = '/usr/local/cuda/nvvm/lib64/libnvvm.so'\n",
        "os.environ['NUMBAPRO_LIBDEVICE'] = '/usr/local/cuda/nvvm/libdevice/'\n",
        "os.environ['CONDA_PREFIX'] = '/usr/local'\n",
        "!wget https://files.pythonhosted.org/packages/2b/a8/050ab4f0c3d4c1b8aaa805f70e26e84d0e27004907c5b8ecc1d31815f92a/cffi-1.15.1.tar.gz\n",
        "!tar -xf cffi-1.15.1.tar.gz\n",
        "!cd cffi-1.15.1 && /usr/local/bin/python setup.py build_ext -f -i\n",
        "!cp cffi-1.15.1/build/_cffi_backend.cpython-37m-x86_64-linux-gnu.so /usr/local/lib/python3.7/site-packages/_cffi_backend.cpython-37m-x86_64-linux-gnu.so\n",
        "!cp /usr/local/lib/python3.7/dist-packages/cffi-1.15.1.dist-info/METADATA /usr/local/lib/python3.7/site-packages/cffi-1.15.0.dist-info\n",
        "!mv /usr/local/lib/python3.7/site-packages/cffi-1.15.0.dist-info/ /usr/local/lib/python3.7/site-packages/cffi-1.15.1.dist-info"
      ],
      "metadata": {
        "id": "IKzkLvqXULMo"
      },
      "execution_count": null,
      "outputs": []
    }
  ]
}